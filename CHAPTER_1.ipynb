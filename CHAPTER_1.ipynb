{
 "cells": [
  {
   "cell_type": "markdown",
   "metadata": {},
   "source": [
    "# Pracitical Statistics for Data Scienctists\n",
    "데이터 과학을 위한 통계"
   ]
  },
  {
   "cell_type": "markdown",
   "metadata": {},
   "source": [
    "- R 소스 : https://github.com/andrewgbruce/statistics-for-data-scientists\n",
    "- data : https://drive.google.com/drive/folders/0B98qpkK5EJemYnJ1ajA1ZVJwMzg"
   ]
  },
  {
   "cell_type": "markdown",
   "metadata": {},
   "source": [
    "## CHAPTER 1 탐색적 데이터 분석"
   ]
  },
  {
   "cell_type": "markdown",
   "metadata": {},
   "source": [
    "- 통계학은 데이터 분석과 모델링을 다루는 일종의 응용과학\n",
    "- 현대 통계학은 1800년대 후반 프랜시스 골턴과 칼 피어슨에서 기원을 찾음\n",
    "- 로널드 피셔는 현대 통게학의 대표적인 선구자 \n",
    "    - 실험계확법\n",
    "    - 최대우도추정\n",
    "\n",
    "- 탐색적 데이터 분석(EDA)\n",
    "    - 모든 데이터 과학 프로젝트의 첫 걸음\n",
    "    - 추론 : 이전의 통계에서 적은 표본(샘플)을 가지고 더 큰 모집단에 대한 결론을 도출하기 위한 일련의 과정\n",
    "    - 데이터 분석 : 1962년 존 투키 [데이터 분석의 미래] 논문을 통해 데이터 분석(data analysis)이라는 과학적 학문을 제안"
   ]
  },
  {
   "cell_type": "markdown",
   "metadata": {},
   "source": [
    "### 1.1 정형화된 데이터의 요소"
   ]
  },
  {
   "cell_type": "markdown",
   "metadata": {},
   "source": [
    "- 용어 정리\n",
    "    - 연속형 continuous : 일정한 범위 안에서 어떤 값이든 취할 수 있는 데이터 (유의어 : 구간형, 실수형, 수치형, 데이터)\n",
    "    - 이산 discrete : 횟수와 같은 정수 값만 취할 수 있다. (유어의 : 정수형, 횟수 데이터)\n",
    "    - 범주형 categorical : 가능한 범주 안의 값만을 취할 수 있다. (유의어: 목록, 열거, 요인, 명목, 다항형 poloychotomous 데이터)\n",
    "    - 이진 binary : 두 개의 값(0/1 혹은 참/거직)만을 갖는 범주형 데이터의 특수한 경우다. (유의어: 이항적, 논리형, 지표 indicator, 불리언 데이터)\n",
    "    - 순서형 ordinal : 값들 사이에 분명한 순위가 있는 범주형 데이터 (유의어: 정렬된 요인 데이터)"
   ]
  },
  {
   "cell_type": "markdown",
   "metadata": {},
   "source": [
    "- 데이터가 문자열인지 범주형인지에 따라 생기는 이점\n",
    "    - 데이터가 범주형이라는 정보는 소프트웨어가 차트 생성이나 모델 피팅 등 통계분석을 수행하는 방식을 결정하는 데 큰 도움을 줌.\n",
    "    - 관계형 데이터베이스에서처럼 사용자가 원하는 순서를 유지하는데 사용\n",
    "    - 범주형 변수가 취할 수 있는 값들은 소프트웨어적으로 처리가 가능(enum처럼)"
   ]
  },
  {
   "cell_type": "markdown",
   "metadata": {},
   "source": [
    "- 주요 개념\n",
    "    - 일반적으로 소프트웨어에서는 데이터를 종류별로 구분한다\n",
    "    - 데이터 종류에는 연속, 이산, 범주(이진 포함), 순서 형태가 있다\n",
    "    - 소프트웨어에서 데이터 종류를 정하는 것은 해당 데이터를 어떻게 처리할지를 정하는 것과 같다."
   ]
  },
  {
   "cell_type": "markdown",
   "metadata": {},
   "source": [
    "#### 1.1.1. 더 읽을 거리"
   ]
  },
  {
   "cell_type": "markdown",
   "metadata": {},
   "source": [
    "- R 튜토리얼 웹사이트, R의 데이터 종류에 대한 정보 : http://www.r-tutor.com/r-introduction/basic-data-types\n",
    "- 데이터베이스의 데이터 종류 : https://www.w3schools.com/sql/sql_datatypes.asp"
   ]
  },
  {
   "cell_type": "markdown",
   "metadata": {},
   "source": [
    "### 1.2 테이블 데이터"
   ]
  },
  {
   "cell_type": "markdown",
   "metadata": {},
   "source": [
    "- 데이터 테이블(rectangular data) : 데이터 분석에서 대표적으로 사용되는 객체 object의 형태 \n",
    "    - (원서에는 직사각형 데이터라고 표현했으나 역자가 테이블데이터로 번역)"
   ]
  },
  {
   "cell_type": "markdown",
   "metadata": {},
   "source": [
    "- 용어정리\n",
    "    - 데이터 프레임 data frame : 통계와 머신러닝 모델에서 가장 기본이 되는 (스프레드시트와 같은) 테이블 형태의 데이터 구조\n",
    "    - 피쳐 feature : 일반적으로 테이블의 각 열이 하나의 피처를 의미 (유의어: 특징, 속성, 입력, 예측변수predictor, 변수)\n",
    "    - 결과 outcome : 데이터 과학 프로젝트의 목표는 대부분 어떤 결과를 예측하는 것 (유의어: 종속변수, 응답, 목표, 출력)\n",
    "        - '경매에 경쟁이 있는가'의 질문에 대한 예/아니오 형태의 결과\n",
    "        - 실험이나 연구에서 결과를 예측하기 위해 피처를 사용\n",
    "    - 레코드 record : 일반적으로 테이블의 각 행은 하나의 레코드를 의미 (유의어 : 기로값, 사건 case, 사례, 예제, 관측값, 패턴, 샘플)"
   ]
  },
  {
   "cell_type": "markdown",
   "metadata": {},
   "source": [
    "#### 1.2.1 데이터 프레임과 인덱스"
   ]
  },
  {
   "cell_type": "markdown",
   "metadata": {},
   "source": [
    "- 인덱스 : 데이터베이스에서 하나 혹은 그 이상의 열의 지정\n",
    "    - SQL : add index ix_name (column_name)\n",
    "    - Pandas 의 DataFrame 순차적 정수 또는 다중/계측적 인덱스 \n",
    "    - R : data.frame 의 정수, 인덱스 row.names 속성 조정 (data.table, dplyr)"
   ]
  },
  {
   "cell_type": "markdown",
   "metadata": {},
   "source": [
    "- CAUTION_ 용어의 차이\n",
    "    - 통계학자 : 응답변수 response variable 나 종속변수 dependent variable 를 예측하는 모델에서 예측변수(predictor variavle)를 사용\n",
    "    - 데이터 과학자 : 목표 target를 예측하는 데 피처를 사용한다\n",
    "    - 컴퓨터 과학자 : 샘플의 의미, 각각의 행\n",
    "    - 통계학자 : 샘플의 의미, 여러 행의 집합"
   ]
  },
  {
   "cell_type": "markdown",
   "metadata": {},
   "source": [
    "#### 1.2.2 테이블 형식이 아닌 데이터 구조"
   ]
  },
  {
   "cell_type": "markdown",
   "metadata": {},
   "source": [
    "- 객체 object : 어떤 객체와 그것의 공간 좌표가 데이터의 중심 (하나의 실체로 인식될 수 있는 것)\n",
    "- 필드 filed : 공간을 나태내는 작은 단위들의 적당한 측정 기준값 (일정 공간 상에 연속적으로 분포된 특정 계량값)"
   ]
  },
  {
   "cell_type": "markdown",
   "metadata": {},
   "source": [
    "- 통계학에서의 그래프\n",
    "    - 컴퓨터 과학과 정보공학에서의 그래프 Gragh : 일반적으로 어떤 객체 entity들 사이의 연결 관계를 묘사하기 위한 도구이자 일종의 데이터 구조로 사용\n",
    "    - 통계학에서의 그래프 : 개체들 사이의 연결 관계보다는 다양한 도표와 시각화 vidualization 방법을 의미, 데이터 구조보다는 시각화에 중점"
   ]
  },
  {
   "cell_type": "markdown",
   "metadata": {},
   "source": [
    "- 주요 개념\n",
    "    - 데이터 과학에서 기본이 되는 데이터 구조는 행과 열이 각각 레코드와 변수(피처)를 의미하는 테이블 모양의 행렬\n",
    "    - 용어가 혼란스러울수 있으니 주의 필요. 데이터 과학에 관련된 서로 다른 학문들(통계학, 컴퓨터 과학, 정보공학)은 저마다 다양한 용어를 사용 중"
   ]
  },
  {
   "cell_type": "markdown",
   "metadata": {},
   "source": [
    "#### 1.2.3 더 읽을 거리"
   ]
  },
  {
   "cell_type": "markdown",
   "metadata": {},
   "source": [
    "- R의 데이터 프레임에 관한 자료 : https://stat.ethz.ch/R-manual/R-devel/library/base/html/data.frame.html\n",
    "- 파이썬의 데이터 프레임에 관한 자료 : https://pandas.pydata.org/pandas-docs/stable/getting_started/dsintro.html"
   ]
  },
  {
   "cell_type": "markdown",
   "metadata": {},
   "source": [
    "### 1.3 위치 추정"
   ]
  },
  {
   "cell_type": "markdown",
   "metadata": {},
   "source": [
    "- 용어 정리\n",
    "    - 평균 mean : 모든 값의 총합을 개수로 나눈 값 (유의어 : 평균 average)\n",
    "    - 가중 평균 weighted mean : 가중치를 곱한 값의 총합을 가중치의 총합으로 나눈 값 (유의어 : 가중평균 weighted average)\n",
    "    - 중간값 median : 데이터에서 가장 가운데 위치한 값 (유의어 : 50번쨰 백분위수 percentile)\n",
    "    - 가중 중간값 weighted median : 데이터를 정렬한 후, 각 가중치 값을 위해서부터 더할 때 총합의 중간이 위치하는 데이터 값\n",
    "    - 절사평균 reimmed mean : 정해진 개수의 극단값 extreme value을 제외한 나머지 값들의 평균 (유의어 : 절단평균 truncated mean)\n",
    "    - 로버스트하다 robust : 극단값들에 민감하지 않다는 것을 의미 (유의어 : 저항성 있다 resistant)\n",
    "    - 특잇값 outlier : 대부분의 값과 매우 다른 데이터 값(유의어 : 극단값)"
   ]
  },
  {
   "cell_type": "markdown",
   "metadata": {},
   "source": [
    "- NOTE_ 측정 지표와 추정값    \n",
    "    - 보통 데이터로부터 얻은 값과 실제 상태를 나타내는 이론적인 참값을 구분하기 위해, 데이터로부터 계산된 값\n",
    "        - 통계학자들, \"추정값 estimate\" , 불확실성을 이해하고자 \n",
    "        - 데이터 과학자, 비즈니스 분석가, \"측정 지표 metric\", 구체적인 비즈니스나 조직의 목표치 관심        "
   ]
  },
  {
   "cell_type": "markdown",
   "metadata": {},
   "source": [
    "#### 1.3.1 평균"
   ]
  },
  {
   "cell_type": "markdown",
   "metadata": {},
   "source": [
    "- 평균 : 가장 기본적인 위치 추정 방법 \n",
    "$$ \n",
    "평균 = \\overline x = \\frac {\\sum_i^n x_i} {n} \n",
    "$$"
   ]
  },
  {
   "cell_type": "markdown",
   "metadata": {},
   "source": [
    "- NOTE N(혹은 n)은 주로 레코드나 관측값의 개수\n",
    "    - 통계학 : 대문자는 모집단을, 소문자는 모집단에서 얻은 표본의 개수를 의미\n",
    "    - 데이터과학 : 같은 의미로 사용"
   ]
  },
  {
   "cell_type": "markdown",
   "metadata": {},
   "source": [
    "- 절사평균 : 값들을 크기 순으로 정렬한 후, 양끝에서 일정 개수의 값들을 삭제한 뒤 남은 값들을 가지고 구한 평균, 극단값읭 영향을 제거\n",
    "$$\n",
    "절사평균 = \\overline x = \\frac {\\sum_{i=p+1}^{n-p} x_(i) } {n-2p} \n",
    "$$"
   ]
  },
  {
   "cell_type": "markdown",
   "metadata": {},
   "source": [
    "- 가중 평균 : \n",
    "$$\n",
    "가중평균 = \\overline x_w = \\frac {\\sum_{i=1}^{n} w_i x_i} {\\sum^n_i w_i} \n",
    "$$\n",
    "\n",
    "- 어떤 값들이 본래 다른 값들에 비해 큰 변화량을 갖을 때, 관측값에 더 작은 가중치를 줄 수 있음\n",
    "- 데이터를 수집할 때, 우리가 관심 있는 서로 다른 대조군에 대해서 항상 같은 수를 얻기 어려움, 이를 보정하기 위해 사용"
   ]
  },
  {
   "cell_type": "markdown",
   "metadata": {},
   "source": [
    "#### 1.3.2 중간값과 로버스트 추정"
   ]
  },
  {
   "cell_type": "markdown",
   "metadata": {},
   "source": [
    "- 중간값 : 데이터를 일렬로 정려했을 때, 한가운데에 위치하는 값\n",
    "- 중간가중값 "
   ]
  },
  {
   "cell_type": "markdown",
   "metadata": {},
   "source": [
    "##### 특잇값\n",
    "- 중간값 :  결과를 왜곡 할 수 있는 특잇값(극단값)들의 영향을 받지 않음, 로버스트한 위치 추정 방법"
   ]
  },
  {
   "cell_type": "markdown",
   "metadata": {},
   "source": [
    "- NOTE 이상 검출\n",
    "    - 전형적인 데이터 분석에서 특잇값들은 유익한 정보를 제공하거나 문제가 되기도 함\n",
    "    - 이상 검출 anomaly detection 에서는 대부분의 정상적인 데이터보다 예외적으로 측정된 특잇값들이 주로 관심 대상"
   ]
  },
  {
   "cell_type": "markdown",
   "metadata": {},
   "source": [
    "#### 1.3.3 예제: 인구에 따른 사인 비율의 위치 추정"
   ]
  },
  {
   "cell_type": "code",
   "execution_count": 1,
   "metadata": {},
   "outputs": [
    {
     "data": {
      "text/html": [
       "<div>\n",
       "<style scoped>\n",
       "    .dataframe tbody tr th:only-of-type {\n",
       "        vertical-align: middle;\n",
       "    }\n",
       "\n",
       "    .dataframe tbody tr th {\n",
       "        vertical-align: top;\n",
       "    }\n",
       "\n",
       "    .dataframe thead th {\n",
       "        text-align: right;\n",
       "    }\n",
       "</style>\n",
       "<table border=\"1\" class=\"dataframe\">\n",
       "  <thead>\n",
       "    <tr style=\"text-align: right;\">\n",
       "      <th></th>\n",
       "      <th>State</th>\n",
       "      <th>Population</th>\n",
       "      <th>Murder_Rate</th>\n",
       "      <th>Abbreviation</th>\n",
       "    </tr>\n",
       "  </thead>\n",
       "  <tbody>\n",
       "    <tr>\n",
       "      <th>0</th>\n",
       "      <td>Alabama</td>\n",
       "      <td>4779736</td>\n",
       "      <td>5.7</td>\n",
       "      <td>AL</td>\n",
       "    </tr>\n",
       "    <tr>\n",
       "      <th>1</th>\n",
       "      <td>Alaska</td>\n",
       "      <td>710231</td>\n",
       "      <td>5.6</td>\n",
       "      <td>AK</td>\n",
       "    </tr>\n",
       "    <tr>\n",
       "      <th>2</th>\n",
       "      <td>Arizona</td>\n",
       "      <td>6392017</td>\n",
       "      <td>4.7</td>\n",
       "      <td>AZ</td>\n",
       "    </tr>\n",
       "    <tr>\n",
       "      <th>3</th>\n",
       "      <td>Arkansas</td>\n",
       "      <td>2915918</td>\n",
       "      <td>5.6</td>\n",
       "      <td>AR</td>\n",
       "    </tr>\n",
       "    <tr>\n",
       "      <th>4</th>\n",
       "      <td>California</td>\n",
       "      <td>37253956</td>\n",
       "      <td>4.4</td>\n",
       "      <td>CA</td>\n",
       "    </tr>\n",
       "  </tbody>\n",
       "</table>\n",
       "</div>"
      ],
      "text/plain": [
       "        State  Population  Murder_Rate Abbreviation\n",
       "0     Alabama     4779736          5.7           AL\n",
       "1      Alaska      710231          5.6           AK\n",
       "2     Arizona     6392017          4.7           AZ\n",
       "3    Arkansas     2915918          5.6           AR\n",
       "4  California    37253956          4.4           CA"
      ]
     },
     "execution_count": 1,
     "metadata": {},
     "output_type": "execute_result"
    }
   ],
   "source": [
    "# 원문은 R을 사용하지만, 여기서는 python으로 동일한 작업을 한다.\n",
    "\n",
    "import numpy as np\n",
    "from scipy import stats\n",
    "import pandas as pd\n",
    "\n",
    "state = pd.read_csv('/Users/chosikc/Downloads/state.csv')\n",
    "\n",
    "state = state.rename(index=str, columns={\"Murder.Rate\": \"Murder_Rate\"})\n",
    "state.head()"
   ]
  },
  {
   "cell_type": "code",
   "execution_count": 4,
   "metadata": {},
   "outputs": [
    {
     "name": "stdout",
     "output_type": "stream",
     "text": [
      "mean      :  6162876.3\n",
      "trim_mean :  4783697.125\n",
      "median    :  4436369.5\n"
     ]
    }
   ],
   "source": [
    "p_array = tuple(state.Population)\n",
    "\n",
    "print (\"mean      : \", np.mean(p_array)) # 평균\n",
    "print (\"trim_mean : \", stats.trim_mean(p_array, 0.1)) # 절사평균 0.1 은 각 끝에서 10%를 제외한다는 의미\n",
    "print (\"median    : \", np.median(p_array)) # 중간값\n"
   ]
  },
  {
   "cell_type": "code",
   "execution_count": 3,
   "metadata": {},
   "outputs": [
    {
     "name": "stdout",
     "output_type": "stream",
     "text": [
      "weighted mean   :  4.445833981123393\n",
      "weighted median :  4.4\n"
     ]
    }
   ],
   "source": [
    "m_array = tuple(state.Murder_Rate)\n",
    "\n",
    "print (\"weighted mean   : \", np.average(m_array, weights=p_array))\n",
    "\n",
    "\n",
    "state.sort_values('Murder_Rate', inplace=True)\n",
    "cumsum = state.Population.cumsum()\n",
    "cutoff = state.Population.sum() / 2.0\n",
    "median = state.Murder_Rate[cumsum >= cutoff].iloc[0]\n",
    "\n",
    "print (\"weighted median : \", median)\n"
   ]
  },
  {
   "cell_type": "markdown",
   "metadata": {},
   "source": [
    "- 주요 개념\n",
    "    - 가장 기본적인 위치 추정 기법은 평균, 하지만 극단값(특잇값)에 민감하다\n",
    "    - 중간값, 절사평균과 같은 다른 바업ㅂ들이 좀 더 로버스트하다."
   ]
  },
  {
   "cell_type": "markdown",
   "metadata": {},
   "source": [
    "#### 1.3.4 더 읽을 거리"
   ]
  },
  {
   "cell_type": "markdown",
   "metadata": {},
   "source": [
    "- 퍼듀 대학교의 마이클 레빈 Michael Levine : http://www.stat.purdue.edu/~mlevins/ , http://www.stat.purdue.edu/~mlevins/docs/stat511/Lecture1standard.pdf\n",
    "\n",
    "- John Tukey's 1977 classic Exploratory Data Analysis (Pearson) (탐색적 데이터 분석, 피어슨)\n",
    "(다른책 : https://apps.dtic.mil/dtic/tr/fulltext/u2/a266775.pdf)\n"
   ]
  },
  {
   "cell_type": "markdown",
   "metadata": {},
   "source": [
    "### 1.4 변이 추정"
   ]
  },
  {
   "cell_type": "markdown",
   "metadata": {},
   "source": [
    "#### 1.4.1 표준편차와 관련 추정값들"
   ]
  },
  {
   "cell_type": "markdown",
   "metadata": {},
   "source": [
    "#### 1.4.2 백분위수에 기초한 추정"
   ]
  },
  {
   "cell_type": "markdown",
   "metadata": {},
   "source": [
    "#### 1.4.3 예제: 주별 인구의 변위 추정"
   ]
  },
  {
   "cell_type": "markdown",
   "metadata": {},
   "source": [
    "#### 1.4.4. 더 읽을 거리"
   ]
  },
  {
   "cell_type": "markdown",
   "metadata": {},
   "source": [
    "### 1.5 데이터 분포 탐색하기"
   ]
  },
  {
   "cell_type": "markdown",
   "metadata": {},
   "source": [
    "#### 1.5.1 백분위수와 상자그림"
   ]
  },
  {
   "cell_type": "markdown",
   "metadata": {},
   "source": [
    "#### 1.5.2 도수분포표와 히스토그램"
   ]
  },
  {
   "cell_type": "markdown",
   "metadata": {},
   "source": [
    "#### 1.5.3 밀도추정"
   ]
  },
  {
   "cell_type": "markdown",
   "metadata": {},
   "source": [
    "#### 1.5.4 더 읽을 거리"
   ]
  },
  {
   "cell_type": "markdown",
   "metadata": {},
   "source": [
    "### 1.6 이진 데이터와 범주 데이터 탐색하기 "
   ]
  },
  {
   "cell_type": "markdown",
   "metadata": {},
   "source": [
    "#### 1.6.1 최빈값"
   ]
  },
  {
   "cell_type": "markdown",
   "metadata": {},
   "source": [
    "#### 1.6.2 기댓값"
   ]
  },
  {
   "cell_type": "markdown",
   "metadata": {},
   "source": [
    "#### 1.6.3 더 읽을 거리"
   ]
  },
  {
   "cell_type": "markdown",
   "metadata": {},
   "source": [
    "### 1.7 상관 관계"
   ]
  },
  {
   "cell_type": "markdown",
   "metadata": {},
   "source": [
    "#### 1.7.1 산점도"
   ]
  },
  {
   "cell_type": "markdown",
   "metadata": {},
   "source": [
    "#### 1.7.2 더 읽을 거리"
   ]
  },
  {
   "cell_type": "markdown",
   "metadata": {},
   "source": [
    "### 1.8 두 개 이상의 변수 탐색하기"
   ]
  },
  {
   "cell_type": "markdown",
   "metadata": {},
   "source": [
    "#### 1.8.1 육각형 구간과 등고선(수치형 변수 대 수치형 변수를 시각화)"
   ]
  },
  {
   "cell_type": "markdown",
   "metadata": {},
   "source": [
    "#### 1.8.2 범주형 변수 대 범주형 변수"
   ]
  },
  {
   "cell_type": "markdown",
   "metadata": {},
   "source": [
    "#### 1.83 범주형 변수 대 수치형 변수"
   ]
  },
  {
   "cell_type": "markdown",
   "metadata": {},
   "source": [
    "#### 1.8.4 다변수 시각화하기"
   ]
  },
  {
   "cell_type": "markdown",
   "metadata": {},
   "source": [
    "#### 1.8.5 더 읽을 거리"
   ]
  },
  {
   "cell_type": "markdown",
   "metadata": {},
   "source": [
    "### 1.9 마치며"
   ]
  },
  {
   "cell_type": "markdown",
   "metadata": {},
   "source": []
  },
  {
   "cell_type": "markdown",
   "metadata": {},
   "source": []
  }
 ],
 "metadata": {
  "kernelspec": {
   "display_name": "Python 3",
   "language": "python",
   "name": "python3"
  },
  "language_info": {
   "codemirror_mode": {
    "name": "ipython",
    "version": 3
   },
   "file_extension": ".py",
   "mimetype": "text/x-python",
   "name": "python",
   "nbconvert_exporter": "python",
   "pygments_lexer": "ipython3",
   "version": "3.7.1"
  }
 },
 "nbformat": 4,
 "nbformat_minor": 2
}
